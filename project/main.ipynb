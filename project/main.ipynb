{
 "cells": [
  {
   "cell_type": "code",
   "execution_count": 87,
   "metadata": {},
   "outputs": [],
   "source": [
    "from bs4 import BeautifulSoup\n",
    "import pandas as pd \n",
    "\n",
    "\n",
    "with open(\"data/data.html\",\"r\") as f:\n",
    "    html_doc=f.read()\n",
    "\n",
    "soup=BeautifulSoup(html_doc,\"html.parser\")\n",
    "\n",
    "title=soup.title.string\n",
    "data={\"Product\":[],\"Price\":[],\"Ratings\":[],\"No of Reviews\":[]}\n",
    "\n",
    "products=soup.select(\"div._4rR01T\")\n",
    "i=0\n",
    "for product in products:\n",
    "    products[i]=product.string\n",
    "    data[\"Product\"].append(products[i])\n",
    "    i+=1\n",
    "# print(products)\n",
    "\n",
    "i=0\n",
    "costs=soup.select(\"div._30jeq3._1_WHN1\")\n",
    "for cost in costs:\n",
    "    costs[i]=cost.string\n",
    "    data[\"Price\"].append(costs[i])\n",
    "    i+=1\n",
    "\n",
    "\n",
    "\n",
    "results=soup.select(\"span._2_R_DZ span span\")\n",
    "\n",
    "\n",
    "for i in range(0,len(results),3):\n",
    "    # print(results[i].string[:-9])\n",
    "    data[\"Ratings\"].append(results[i].string[:-9])\n",
    "\n",
    "for i in range(2,len(results),3):\n",
    "    # print(results[i].string[:-8])\n",
    "    data[\"No of Reviews\"].append(results[i].string[:-8])\n",
    "\n",
    "\n",
    "dataframe=pd.DataFrame.from_dict(data)\n",
    "dataframe.index=dataframe.index+1\n",
    "dataframe.to_csv(\"data.csv\")\n"
   ]
  }
 ],
 "metadata": {
  "kernelspec": {
   "display_name": "Python 3",
   "language": "python",
   "name": "python3"
  },
  "language_info": {
   "codemirror_mode": {
    "name": "ipython",
    "version": 3
   },
   "file_extension": ".py",
   "mimetype": "text/x-python",
   "name": "python",
   "nbconvert_exporter": "python",
   "pygments_lexer": "ipython3",
   "version": "3.10.6"
  },
  "orig_nbformat": 4
 },
 "nbformat": 4,
 "nbformat_minor": 2
}
