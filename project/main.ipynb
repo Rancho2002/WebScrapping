{
 "cells": [
  {
   "cell_type": "code",
   "execution_count": 1,
   "metadata": {},
   "outputs": [],
   "source": [
    "from bs4 import BeautifulSoup\n",
    "import pandas as pd \n",
    "\n",
    "\n",
    "with open(\"data/data2.html\",\"r\") as f:\n",
    "    html_doc=f.read()\n",
    "\n",
    "soup=BeautifulSoup(html_doc,\"html.parser\")"
   ]
  },
  {
   "cell_type": "code",
   "execution_count": 89,
   "metadata": {},
   "outputs": [],
   "source": [
    "title=soup.title.string\n",
    "data={\"Product\":[],\"Price\":[],\"Ratings\":[],\"No of Reviews\":[]}\n",
    "\n",
    "products=soup.select(\"div._4rR01T\")\n",
    "i=0\n",
    "for product in products:\n",
    "    products[i]=product.string\n",
    "    data[\"Product\"].append(products[i])\n",
    "    i+=1\n",
    "# print(products)\n",
    "\n",
    "i=0\n",
    "costs=soup.select(\"div._30jeq3._1_WHN1\")\n",
    "for cost in costs:\n",
    "    costs[i]=cost.string\n",
    "    data[\"Price\"].append(costs[i])\n",
    "    i+=1\n",
    "\n",
    "\n",
    "\n",
    "results=soup.select(\"span._2_R_DZ span span\")\n",
    "\n",
    "\n",
    "for i in range(0,len(results),3):\n",
    "    # print(results[i].string[:-9])\n",
    "    data[\"Ratings\"].append(results[i].string[:-9])\n",
    "\n",
    "for i in range(2,len(results),3):\n",
    "    # print(results[i].string[:-8])\n",
    "    data[\"No of Reviews\"].append(results[i].string[:-8])\n",
    "\n",
    "\n",
    "\n"
   ]
  },
  {
   "cell_type": "code",
   "execution_count": 46,
   "metadata": {},
   "outputs": [
    {
     "name": "stdout",
     "output_type": "stream",
     "text": [
      "{'Channel name': ['CodeWithHarry', 'Telusko', 'Hitesh Chowdhary', 'Codedamn', 'Programming With Vishal', 'RoadsideCoder', 'Technical Suneja'], 'Skills taught': ['CodeWithHarry', 'Telusko', 'Hitesh Choudhary', 'Codedamn', 'RoadSideCoder', 'ProgrammingWithVishal', 'Technical Suneja', 'Web Development', 'Python', 'Java', 'C', 'C++', 'Android Development', 'Javascript', 'React', 'NextJs', 'PHP', 'Deployment', 'Web Development', 'Python', 'Java', 'JavaScript', 'SQL and NoSQL', 'Blockchain', 'Web development', 'JavaScript', 'Golang', 'NoSQL', 'React & React Native', 'NextJs'], 'Channel link': ['https://www.youtube.com/c/CodeWithHarry', 'https://www.youtube.com/c/Telusko', 'https://www.youtube.com/c/HiteshChoudharydotcom', 'https://www.youtube.com/c/codedamn', 'https://www.youtube.com/c/ProgrammingwithVishal', 'https://www.youtube.com/c/TechnicalSunejaji', 'https://www.youtube.com/c/RoadsideCoder']}\n"
     ]
    }
   ],
   "source": [
    "usernames=soup.select(\"h4\")\n",
    "top7utuber={\"Channel name\":[],\"Skills taught\":[],\"Channel link\":[]}\n",
    "\n",
    "for user in usernames[:-1]:\n",
    "    top7utuber[\"Channel name\"].append(user.string)\n",
    "\n",
    "\n",
    "\n",
    "skills=soup.select(\"div.post-body ul li\")\n",
    "\n",
    "for skill in skills:\n",
    "    # print(skill)\n",
    "    top7utuber[\"Skills taught\"].append(skill.string)\n",
    "\n",
    "links = soup.find_all('a',{\"rel\":\"nofollow\"})\n",
    "\n",
    "for link in links[:6]:\n",
    "    top7utuber[\"Channel link\"].append(link.get(\"href\"))\n",
    "\n",
    "top7utuber[\"Channel link\"].append(soup.find(\"a\",{\"href\":\"https://www.youtube.com/c/RoadsideCoder\"}).get(\"href\"))\n",
    "\n",
    "# print(top7utuber)\n",
    "\n",
    "\n",
    "\n"
   ]
  },
  {
   "cell_type": "code",
   "execution_count": null,
   "metadata": {},
   "outputs": [],
   "source": [
    "dataframe=pd.DataFrame.from_dict(data)\n",
    "dataframe.index=dataframe.index+1\n",
    "dataframe.to_csv(\"data.csv\")"
   ]
  }
 ],
 "metadata": {
  "kernelspec": {
   "display_name": "Python 3",
   "language": "python",
   "name": "python3"
  },
  "language_info": {
   "codemirror_mode": {
    "name": "ipython",
    "version": 3
   },
   "file_extension": ".py",
   "mimetype": "text/x-python",
   "name": "python",
   "nbconvert_exporter": "python",
   "pygments_lexer": "ipython3",
   "version": "3.10.6"
  },
  "orig_nbformat": 4
 },
 "nbformat": 4,
 "nbformat_minor": 2
}
